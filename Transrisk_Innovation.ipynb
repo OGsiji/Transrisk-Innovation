{
  "nbformat": 4,
  "nbformat_minor": 0,
  "metadata": {
    "colab": {
      "name": "Transrisk Innovation.ipynb",
      "provenance": [],
      "collapsed_sections": [],
      "authorship_tag": "ABX9TyOXC9Es5vtYx9vFdv7FP8i4",
      "include_colab_link": true
    },
    "kernelspec": {
      "display_name": "Python 3",
      "name": "python3"
    }
  },
  "cells": [
    {
      "cell_type": "markdown",
      "metadata": {
        "id": "view-in-github",
        "colab_type": "text"
      },
      "source": [
        "<a href=\"https://colab.research.google.com/github/OGsiji/Transrisk-Innovation/blob/main/Transrisk_Innovation.ipynb\" target=\"_parent\"><img src=\"https://colab.research.google.com/assets/colab-badge.svg\" alt=\"Open In Colab\"/></a>"
      ]
    },
    {
      "cell_type": "code",
      "metadata": {
        "colab": {
          "base_uri": "https://localhost:8080/",
          "height": 333
        },
        "id": "IyXs4PMpESBR",
        "outputId": "63fe4576-8572-480c-e518-bd5346f528fe"
      },
      "source": [
        "#from accidents_montreal import get_accident_df\n",
        "#from utils import init_spark\n",
        "#from road_network import get_road_df\n",
        "#from weather import add_weather_columns, extract_year_month_day\n",
        "from pyspark.sql.functions import row_number, col, rank, avg, split, to_date, min"
      ],
      "execution_count": null,
      "outputs": [
        {
          "output_type": "error",
          "ename": "ModuleNotFoundError",
          "evalue": "ignored",
          "traceback": [
            "\u001b[0;31m---------------------------------------------------------------------------\u001b[0m",
            "\u001b[0;31mModuleNotFoundError\u001b[0m                       Traceback (most recent call last)",
            "\u001b[0;32m<ipython-input-4-b6273d9fd130>\u001b[0m in \u001b[0;36m<module>\u001b[0;34m()\u001b[0m\n\u001b[1;32m      3\u001b[0m \u001b[0;31m#from road_network import get_road_df\u001b[0m\u001b[0;34m\u001b[0m\u001b[0;34m\u001b[0m\u001b[0;34m\u001b[0m\u001b[0m\n\u001b[1;32m      4\u001b[0m \u001b[0;31m#from weather import add_weather_columns, extract_year_month_day\u001b[0m\u001b[0;34m\u001b[0m\u001b[0;34m\u001b[0m\u001b[0;34m\u001b[0m\u001b[0m\n\u001b[0;32m----> 5\u001b[0;31m \u001b[0;32mfrom\u001b[0m \u001b[0mpyspark\u001b[0m\u001b[0;34m.\u001b[0m\u001b[0msql\u001b[0m\u001b[0;34m.\u001b[0m\u001b[0mfunctions\u001b[0m \u001b[0;32mimport\u001b[0m \u001b[0mrow_number\u001b[0m\u001b[0;34m,\u001b[0m \u001b[0mcol\u001b[0m\u001b[0;34m,\u001b[0m \u001b[0mrank\u001b[0m\u001b[0;34m,\u001b[0m \u001b[0mavg\u001b[0m\u001b[0;34m,\u001b[0m \u001b[0msplit\u001b[0m\u001b[0;34m,\u001b[0m \u001b[0mto_date\u001b[0m\u001b[0;34m,\u001b[0m \u001b[0mmin\u001b[0m\u001b[0;34m\u001b[0m\u001b[0;34m\u001b[0m\u001b[0m\n\u001b[0m",
            "\u001b[0;31mModuleNotFoundError\u001b[0m: No module named 'pyspark'",
            "",
            "\u001b[0;31m---------------------------------------------------------------------------\u001b[0;32m\nNOTE: If your import is failing due to a missing package, you can\nmanually install dependencies using either !pip or !apt.\n\nTo view examples of installing some common dependencies, click the\n\"Open Examples\" button below.\n\u001b[0;31m---------------------------------------------------------------------------\u001b[0m\n"
          ]
        }
      ]
    },
    {
      "cell_type": "code",
      "metadata": {
        "id": "4GwREkYmFZJr"
      },
      "source": [
        ""
      ],
      "execution_count": null,
      "outputs": []
    },
    {
      "cell_type": "code",
      "metadata": {
        "id": "D6qOMlfFGJca"
      },
      "source": [
        "\n",
        "\n",
        "\n",
        "import time\n",
        "import datetime\n",
        "\n",
        "start = \"01/01/\" + str('2012')\n",
        "end = \"31/12/\" + str('2018')\n",
        "date = datetime.datetime.strptime(start, \"%d/%m/%Y\")\n",
        "\n",
        "dates = list()\n",
        "while(date != datetime.datetime.strptime(end, \"%d/%m/%Y\")): \n",
        "    date += datetime.timedelta(days=1)\n",
        "    for i in range(24):\n",
        "        dates.append((date.strftime(\"%Y-%m-%d\"), i))"
      ],
      "execution_count": null,
      "outputs": []
    },
    {
      "cell_type": "code",
      "metadata": {
        "id": "DUh72XSpIMfx"
      },
      "source": [
        "import pandas as pd"
      ],
      "execution_count": null,
      "outputs": []
    },
    {
      "cell_type": "code",
      "metadata": {
        "id": "LD13ZXVYEYSJ"
      },
      "source": [
        "Data = pd.DataFrame(dates, columns=('Date', 'hour'))"
      ],
      "execution_count": null,
      "outputs": []
    },
    {
      "cell_type": "code",
      "metadata": {
        "colab": {
          "base_uri": "https://localhost:8080/",
          "height": 204
        },
        "id": "p_SdLGNyIqjc",
        "outputId": "58cccdcd-f2cc-4490-cef9-5c5ac10b7183"
      },
      "source": [
        "Data.head()"
      ],
      "execution_count": null,
      "outputs": [
        {
          "output_type": "execute_result",
          "data": {
            "text/html": [
              "<div>\n",
              "<style scoped>\n",
              "    .dataframe tbody tr th:only-of-type {\n",
              "        vertical-align: middle;\n",
              "    }\n",
              "\n",
              "    .dataframe tbody tr th {\n",
              "        vertical-align: top;\n",
              "    }\n",
              "\n",
              "    .dataframe thead th {\n",
              "        text-align: right;\n",
              "    }\n",
              "</style>\n",
              "<table border=\"1\" class=\"dataframe\">\n",
              "  <thead>\n",
              "    <tr style=\"text-align: right;\">\n",
              "      <th></th>\n",
              "      <th>Date</th>\n",
              "      <th>hour</th>\n",
              "    </tr>\n",
              "  </thead>\n",
              "  <tbody>\n",
              "    <tr>\n",
              "      <th>0</th>\n",
              "      <td>2012-01-02</td>\n",
              "      <td>0</td>\n",
              "    </tr>\n",
              "    <tr>\n",
              "      <th>1</th>\n",
              "      <td>2012-01-02</td>\n",
              "      <td>1</td>\n",
              "    </tr>\n",
              "    <tr>\n",
              "      <th>2</th>\n",
              "      <td>2012-01-02</td>\n",
              "      <td>2</td>\n",
              "    </tr>\n",
              "    <tr>\n",
              "      <th>3</th>\n",
              "      <td>2012-01-02</td>\n",
              "      <td>3</td>\n",
              "    </tr>\n",
              "    <tr>\n",
              "      <th>4</th>\n",
              "      <td>2012-01-02</td>\n",
              "      <td>4</td>\n",
              "    </tr>\n",
              "  </tbody>\n",
              "</table>\n",
              "</div>"
            ],
            "text/plain": [
              "         Date  hour\n",
              "0  2012-01-02     0\n",
              "1  2012-01-02     1\n",
              "2  2012-01-02     2\n",
              "3  2012-01-02     3\n",
              "4  2012-01-02     4"
            ]
          },
          "metadata": {
            "tags": []
          },
          "execution_count": 4
        }
      ]
    },
    {
      "cell_type": "code",
      "metadata": {
        "colab": {
          "base_uri": "https://localhost:8080/"
        },
        "id": "1s8CG6h4IjU5",
        "outputId": "4e9f373d-ebf2-44d4-8b9a-46c2c547eed7"
      },
      "source": [
        "Data.shape"
      ],
      "execution_count": null,
      "outputs": [
        {
          "output_type": "execute_result",
          "data": {
            "text/plain": [
              "(61344, 2)"
            ]
          },
          "metadata": {
            "tags": []
          },
          "execution_count": 5
        }
      ]
    },
    {
      "cell_type": "code",
      "metadata": {
        "colab": {
          "base_uri": "https://localhost:8080/"
        },
        "id": "Ok9Nsacm2VGH",
        "outputId": "adcc5804-583a-4a8b-dd90-0966f1f52a0d"
      },
      "source": [
        "from google.colab import drive\n",
        "drive.mount(\"/content/drive/\")\n",
        "%cd \"drive/My Drive/\"\n"
      ],
      "execution_count": null,
      "outputs": [
        {
          "output_type": "stream",
          "text": [
            "Mounted at /content/drive/\n",
            "/content/drive/My Drive\n"
          ],
          "name": "stdout"
        }
      ]
    },
    {
      "cell_type": "code",
      "metadata": {
        "id": "lAlD9WviG0r0"
      },
      "source": [
        "data2=pd.read_csv('dataBIS correct.csv')"
      ],
      "execution_count": null,
      "outputs": []
    },
    {
      "cell_type": "code",
      "metadata": {
        "id": "mxLALoJr2gYo"
      },
      "source": [
        "data2.drop(columns=['DATE','CRASH TIME (HRS)'], inplace=True)"
      ],
      "execution_count": null,
      "outputs": []
    },
    {
      "cell_type": "code",
      "metadata": {
        "colab": {
          "base_uri": "https://localhost:8080/",
          "height": 306
        },
        "id": "5odfS81m75-U",
        "outputId": "57a0e637-8c46-4db1-b54c-430d7b8e3cc2"
      },
      "source": [
        "data2.head()"
      ],
      "execution_count": null,
      "outputs": [
        {
          "output_type": "execute_result",
          "data": {
            "text/html": [
              "<div>\n",
              "<style scoped>\n",
              "    .dataframe tbody tr th:only-of-type {\n",
              "        vertical-align: middle;\n",
              "    }\n",
              "\n",
              "    .dataframe tbody tr th {\n",
              "        vertical-align: top;\n",
              "    }\n",
              "\n",
              "    .dataframe thead th {\n",
              "        text-align: right;\n",
              "    }\n",
              "</style>\n",
              "<table border=\"1\" class=\"dataframe\">\n",
              "  <thead>\n",
              "    <tr style=\"text-align: right;\">\n",
              "      <th></th>\n",
              "      <th>DAY</th>\n",
              "      <th>LOCATION</th>\n",
              "      <th>PROBABLE CAUSE(S) OF RTC</th>\n",
              "      <th>ROUTE</th>\n",
              "      <th>VEHICLE CATEGORY</th>\n",
              "      <th>VEHICLE CLASS</th>\n",
              "      <th>Timestamp</th>\n",
              "      <th>month</th>\n",
              "      <th>X</th>\n",
              "      <th>Y</th>\n",
              "    </tr>\n",
              "  </thead>\n",
              "  <tbody>\n",
              "    <tr>\n",
              "      <th>0</th>\n",
              "      <td>SUN</td>\n",
              "      <td>KM8-OOLO</td>\n",
              "      <td>NaN</td>\n",
              "      <td>OGB-OYO</td>\n",
              "      <td>CAR</td>\n",
              "      <td>COMM</td>\n",
              "      <td>05/02/2013 07:00</td>\n",
              "      <td>3</td>\n",
              "      <td>3.89100</td>\n",
              "      <td>7.39975</td>\n",
              "    </tr>\n",
              "    <tr>\n",
              "      <th>1</th>\n",
              "      <td>MON</td>\n",
              "      <td>KM8-FLYOVER</td>\n",
              "      <td>NaN</td>\n",
              "      <td>OGB-ILN</td>\n",
              "      <td>BUS</td>\n",
              "      <td>COMM.</td>\n",
              "      <td>4/21/2013 5:00</td>\n",
              "      <td>4</td>\n",
              "      <td>3.90820</td>\n",
              "      <td>7.42622</td>\n",
              "    </tr>\n",
              "    <tr>\n",
              "      <th>2</th>\n",
              "      <td>MON</td>\n",
              "      <td>KM24-IROKO</td>\n",
              "      <td>NaN</td>\n",
              "      <td>IBD-OYO</td>\n",
              "      <td>BUS</td>\n",
              "      <td>COMM.</td>\n",
              "      <td>4/27/2013 16:00</td>\n",
              "      <td>4</td>\n",
              "      <td>3.91593</td>\n",
              "      <td>7.51316</td>\n",
              "    </tr>\n",
              "    <tr>\n",
              "      <th>3</th>\n",
              "      <td>MON</td>\n",
              "      <td>KM2-SHARPCORNER</td>\n",
              "      <td>NaN</td>\n",
              "      <td>OGB-OYO</td>\n",
              "      <td>TRK</td>\n",
              "      <td>COMM.</td>\n",
              "      <td>06/05/2013 10:00</td>\n",
              "      <td>4</td>\n",
              "      <td>3.91466</td>\n",
              "      <td>7.59099</td>\n",
              "    </tr>\n",
              "    <tr>\n",
              "      <th>4</th>\n",
              "      <td>TUE</td>\n",
              "      <td>KM1-AJE IYA</td>\n",
              "      <td>NaN</td>\n",
              "      <td>OGB-OYO</td>\n",
              "      <td>TRL/   MC</td>\n",
              "      <td>COMM/   PVT</td>\n",
              "      <td>06/01/2013 11:00</td>\n",
              "      <td>5</td>\n",
              "      <td>3.92260</td>\n",
              "      <td>7.63765</td>\n",
              "    </tr>\n",
              "  </tbody>\n",
              "</table>\n",
              "</div>"
            ],
            "text/plain": [
              "   DAY         LOCATION PROBABLE CAUSE(S) OF RTC  ... month    X            Y\n",
              "0  SUN         KM8-OOLO                      NaN  ...     3  3.89100  7.39975\n",
              "1  MON      KM8-FLYOVER                      NaN  ...     4  3.90820  7.42622\n",
              "2  MON       KM24-IROKO                      NaN  ...     4  3.91593  7.51316\n",
              "3  MON  KM2-SHARPCORNER                      NaN  ...     4  3.91466  7.59099\n",
              "4  TUE      KM1-AJE IYA                      NaN  ...     5  3.92260  7.63765\n",
              "\n",
              "[5 rows x 10 columns]"
            ]
          },
          "metadata": {
            "tags": []
          },
          "execution_count": 42
        }
      ]
    },
    {
      "cell_type": "markdown",
      "metadata": {
        "id": "kHxgtUqt7Q0G"
      },
      "source": [
        "i"
      ]
    },
    {
      "cell_type": "code",
      "metadata": {
        "id": "0meyfuJ_3AS5"
      },
      "source": [
        "data2=pd.concat([Data,data2],axis=1)"
      ],
      "execution_count": null,
      "outputs": []
    },
    {
      "cell_type": "code",
      "metadata": {
        "colab": {
          "base_uri": "https://localhost:8080/",
          "height": 306
        },
        "id": "NAbJBYtvM3On",
        "outputId": "9296edba-581d-40ea-9579-cac3f0ea1ffe"
      },
      "source": [
        "data2.head()"
      ],
      "execution_count": null,
      "outputs": [
        {
          "output_type": "execute_result",
          "data": {
            "text/html": [
              "<div>\n",
              "<style scoped>\n",
              "    .dataframe tbody tr th:only-of-type {\n",
              "        vertical-align: middle;\n",
              "    }\n",
              "\n",
              "    .dataframe tbody tr th {\n",
              "        vertical-align: top;\n",
              "    }\n",
              "\n",
              "    .dataframe thead th {\n",
              "        text-align: right;\n",
              "    }\n",
              "</style>\n",
              "<table border=\"1\" class=\"dataframe\">\n",
              "  <thead>\n",
              "    <tr style=\"text-align: right;\">\n",
              "      <th></th>\n",
              "      <th>Date</th>\n",
              "      <th>hour</th>\n",
              "      <th>DAY</th>\n",
              "      <th>LOCATION</th>\n",
              "      <th>PROBABLE CAUSE(S) OF RTC</th>\n",
              "      <th>ROUTE</th>\n",
              "      <th>VEHICLE CATEGORY</th>\n",
              "      <th>VEHICLE CLASS</th>\n",
              "      <th>Timestamp</th>\n",
              "      <th>month</th>\n",
              "      <th>X</th>\n",
              "      <th>Y</th>\n",
              "    </tr>\n",
              "  </thead>\n",
              "  <tbody>\n",
              "    <tr>\n",
              "      <th>0</th>\n",
              "      <td>2012-01-02</td>\n",
              "      <td>0</td>\n",
              "      <td>SUN</td>\n",
              "      <td>KM8-OOLO</td>\n",
              "      <td>NaN</td>\n",
              "      <td>OGB-OYO</td>\n",
              "      <td>CAR</td>\n",
              "      <td>COMM</td>\n",
              "      <td>05/02/2013 07:00</td>\n",
              "      <td>3.0</td>\n",
              "      <td>3.89100</td>\n",
              "      <td>7.39975</td>\n",
              "    </tr>\n",
              "    <tr>\n",
              "      <th>1</th>\n",
              "      <td>2012-01-02</td>\n",
              "      <td>1</td>\n",
              "      <td>MON</td>\n",
              "      <td>KM8-FLYOVER</td>\n",
              "      <td>NaN</td>\n",
              "      <td>OGB-ILN</td>\n",
              "      <td>BUS</td>\n",
              "      <td>COMM.</td>\n",
              "      <td>4/21/2013 5:00</td>\n",
              "      <td>4.0</td>\n",
              "      <td>3.90820</td>\n",
              "      <td>7.42622</td>\n",
              "    </tr>\n",
              "    <tr>\n",
              "      <th>2</th>\n",
              "      <td>2012-01-02</td>\n",
              "      <td>2</td>\n",
              "      <td>MON</td>\n",
              "      <td>KM24-IROKO</td>\n",
              "      <td>NaN</td>\n",
              "      <td>IBD-OYO</td>\n",
              "      <td>BUS</td>\n",
              "      <td>COMM.</td>\n",
              "      <td>4/27/2013 16:00</td>\n",
              "      <td>4.0</td>\n",
              "      <td>3.91593</td>\n",
              "      <td>7.51316</td>\n",
              "    </tr>\n",
              "    <tr>\n",
              "      <th>3</th>\n",
              "      <td>2012-01-02</td>\n",
              "      <td>3</td>\n",
              "      <td>MON</td>\n",
              "      <td>KM2-SHARPCORNER</td>\n",
              "      <td>NaN</td>\n",
              "      <td>OGB-OYO</td>\n",
              "      <td>TRK</td>\n",
              "      <td>COMM.</td>\n",
              "      <td>06/05/2013 10:00</td>\n",
              "      <td>4.0</td>\n",
              "      <td>3.91466</td>\n",
              "      <td>7.59099</td>\n",
              "    </tr>\n",
              "    <tr>\n",
              "      <th>4</th>\n",
              "      <td>2012-01-02</td>\n",
              "      <td>4</td>\n",
              "      <td>TUE</td>\n",
              "      <td>KM1-AJE IYA</td>\n",
              "      <td>NaN</td>\n",
              "      <td>OGB-OYO</td>\n",
              "      <td>TRL/   MC</td>\n",
              "      <td>COMM/   PVT</td>\n",
              "      <td>06/01/2013 11:00</td>\n",
              "      <td>5.0</td>\n",
              "      <td>3.92260</td>\n",
              "      <td>7.63765</td>\n",
              "    </tr>\n",
              "  </tbody>\n",
              "</table>\n",
              "</div>"
            ],
            "text/plain": [
              "         Date  hour  DAY  ... month    X            Y\n",
              "0  2012-01-02     0  SUN  ...   3.0  3.89100  7.39975\n",
              "1  2012-01-02     1  MON  ...   4.0  3.90820  7.42622\n",
              "2  2012-01-02     2  MON  ...   4.0  3.91593  7.51316\n",
              "3  2012-01-02     3  MON  ...   4.0  3.91466  7.59099\n",
              "4  2012-01-02     4  TUE  ...   5.0  3.92260  7.63765\n",
              "\n",
              "[5 rows x 12 columns]"
            ]
          },
          "metadata": {
            "tags": []
          },
          "execution_count": 44
        }
      ]
    },
    {
      "cell_type": "code",
      "metadata": {
        "id": "Ev-uiJyVYqH9"
      },
      "source": [
        "import random\r\n",
        "import numpy as np\r\n",
        "\r\n",
        "#data2[\"DAY\"].fillna(lambda x: random.choice(data2[data2[\"DAY\"] != np.nan][\"DAY\"]), inplace =True)"
      ],
      "execution_count": null,
      "outputs": []
    },
    {
      "cell_type": "code",
      "metadata": {
        "colab": {
          "base_uri": "https://localhost:8080/",
          "height": 272
        },
        "id": "-VfDD3rPDmfk",
        "outputId": "6e7012ee-d32d-413c-df45-73741ff7217d"
      },
      "source": [
        "data2[\"DAY\"] = data2[\"DAY\"].apply(lambda x: x.fillna(random.choice(x.dropna())))"
      ],
      "execution_count": null,
      "outputs": [
        {
          "output_type": "error",
          "ename": "AttributeError",
          "evalue": "ignored",
          "traceback": [
            "\u001b[0;31m---------------------------------------------------------------------------\u001b[0m",
            "\u001b[0;31mAttributeError\u001b[0m                            Traceback (most recent call last)",
            "\u001b[0;32m<ipython-input-47-f16e612594f7>\u001b[0m in \u001b[0;36m<module>\u001b[0;34m()\u001b[0m\n\u001b[0;32m----> 1\u001b[0;31m \u001b[0mdata2\u001b[0m\u001b[0;34m[\u001b[0m\u001b[0;34m\"DAY\"\u001b[0m\u001b[0;34m]\u001b[0m \u001b[0;34m=\u001b[0m \u001b[0mdata2\u001b[0m\u001b[0;34m[\u001b[0m\u001b[0;34m\"DAY\"\u001b[0m\u001b[0;34m]\u001b[0m\u001b[0;34m.\u001b[0m\u001b[0mapply\u001b[0m\u001b[0;34m(\u001b[0m\u001b[0;32mlambda\u001b[0m \u001b[0mx\u001b[0m\u001b[0;34m:\u001b[0m \u001b[0mx\u001b[0m\u001b[0;34m.\u001b[0m\u001b[0mfillna\u001b[0m\u001b[0;34m(\u001b[0m\u001b[0mrandom\u001b[0m\u001b[0;34m.\u001b[0m\u001b[0mchoice\u001b[0m\u001b[0;34m(\u001b[0m\u001b[0mx\u001b[0m\u001b[0;34m.\u001b[0m\u001b[0mdropna\u001b[0m\u001b[0;34m(\u001b[0m\u001b[0;34m)\u001b[0m\u001b[0;34m)\u001b[0m\u001b[0;34m)\u001b[0m\u001b[0;34m)\u001b[0m\u001b[0;34m\u001b[0m\u001b[0;34m\u001b[0m\u001b[0m\n\u001b[0m",
            "\u001b[0;32m/usr/local/lib/python3.6/dist-packages/pandas/core/series.py\u001b[0m in \u001b[0;36mapply\u001b[0;34m(self, func, convert_dtype, args, **kwds)\u001b[0m\n\u001b[1;32m   4210\u001b[0m             \u001b[0;32melse\u001b[0m\u001b[0;34m:\u001b[0m\u001b[0;34m\u001b[0m\u001b[0;34m\u001b[0m\u001b[0m\n\u001b[1;32m   4211\u001b[0m                 \u001b[0mvalues\u001b[0m \u001b[0;34m=\u001b[0m \u001b[0mself\u001b[0m\u001b[0;34m.\u001b[0m\u001b[0mastype\u001b[0m\u001b[0;34m(\u001b[0m\u001b[0mobject\u001b[0m\u001b[0;34m)\u001b[0m\u001b[0;34m.\u001b[0m\u001b[0m_values\u001b[0m\u001b[0;34m\u001b[0m\u001b[0;34m\u001b[0m\u001b[0m\n\u001b[0;32m-> 4212\u001b[0;31m                 \u001b[0mmapped\u001b[0m \u001b[0;34m=\u001b[0m \u001b[0mlib\u001b[0m\u001b[0;34m.\u001b[0m\u001b[0mmap_infer\u001b[0m\u001b[0;34m(\u001b[0m\u001b[0mvalues\u001b[0m\u001b[0;34m,\u001b[0m \u001b[0mf\u001b[0m\u001b[0;34m,\u001b[0m \u001b[0mconvert\u001b[0m\u001b[0;34m=\u001b[0m\u001b[0mconvert_dtype\u001b[0m\u001b[0;34m)\u001b[0m\u001b[0;34m\u001b[0m\u001b[0;34m\u001b[0m\u001b[0m\n\u001b[0m\u001b[1;32m   4213\u001b[0m \u001b[0;34m\u001b[0m\u001b[0m\n\u001b[1;32m   4214\u001b[0m         \u001b[0;32mif\u001b[0m \u001b[0mlen\u001b[0m\u001b[0;34m(\u001b[0m\u001b[0mmapped\u001b[0m\u001b[0;34m)\u001b[0m \u001b[0;32mand\u001b[0m \u001b[0misinstance\u001b[0m\u001b[0;34m(\u001b[0m\u001b[0mmapped\u001b[0m\u001b[0;34m[\u001b[0m\u001b[0;36m0\u001b[0m\u001b[0;34m]\u001b[0m\u001b[0;34m,\u001b[0m \u001b[0mSeries\u001b[0m\u001b[0;34m)\u001b[0m\u001b[0;34m:\u001b[0m\u001b[0;34m\u001b[0m\u001b[0;34m\u001b[0m\u001b[0m\n",
            "\u001b[0;32mpandas/_libs/lib.pyx\u001b[0m in \u001b[0;36mpandas._libs.lib.map_infer\u001b[0;34m()\u001b[0m\n",
            "\u001b[0;32m<ipython-input-47-f16e612594f7>\u001b[0m in \u001b[0;36m<lambda>\u001b[0;34m(x)\u001b[0m\n\u001b[0;32m----> 1\u001b[0;31m \u001b[0mdata2\u001b[0m\u001b[0;34m[\u001b[0m\u001b[0;34m\"DAY\"\u001b[0m\u001b[0;34m]\u001b[0m \u001b[0;34m=\u001b[0m \u001b[0mdata2\u001b[0m\u001b[0;34m[\u001b[0m\u001b[0;34m\"DAY\"\u001b[0m\u001b[0;34m]\u001b[0m\u001b[0;34m.\u001b[0m\u001b[0mapply\u001b[0m\u001b[0;34m(\u001b[0m\u001b[0;32mlambda\u001b[0m \u001b[0mx\u001b[0m\u001b[0;34m:\u001b[0m \u001b[0mx\u001b[0m\u001b[0;34m.\u001b[0m\u001b[0mfillna\u001b[0m\u001b[0;34m(\u001b[0m\u001b[0mrandom\u001b[0m\u001b[0;34m.\u001b[0m\u001b[0mchoice\u001b[0m\u001b[0;34m(\u001b[0m\u001b[0mx\u001b[0m\u001b[0;34m.\u001b[0m\u001b[0mdropna\u001b[0m\u001b[0;34m(\u001b[0m\u001b[0;34m)\u001b[0m\u001b[0;34m)\u001b[0m\u001b[0;34m)\u001b[0m\u001b[0;34m)\u001b[0m\u001b[0;34m\u001b[0m\u001b[0;34m\u001b[0m\u001b[0m\n\u001b[0m",
            "\u001b[0;31mAttributeError\u001b[0m: 'str' object has no attribute 'fillna'"
          ]
        }
      ]
    },
    {
      "cell_type": "code",
      "metadata": {
        "id": "_Fle23ILaRHb"
      },
      "source": [
        "def na_randomfill(series):\r\n",
        "    na_mask = pd.isnull(series)   # boolean mask for null values\r\n",
        "    n_null = na_mask.sum()        # number of nulls in the Series\r\n",
        "    \r\n",
        "    if n_null == 0:\r\n",
        "        return series             # if there are no nulls, no need to resample\r\n",
        "    \r\n",
        "    # Randomly sample the non-null values from our series\r\n",
        "    #  only sample this Series as many times as we have nulls \r\n",
        "    fill_values = series[~na_mask].sample(n=n_null, replace=True, random_state=0)\r\n",
        "\r\n",
        "    # This ensures our new values will replace NaNs in the correct locations\r\n",
        "    fill_values.index = series.index[na_mask]\r\n",
        "    \r\n",
        "    return series.fillna(fill_values) "
      ],
      "execution_count": null,
      "outputs": []
    },
    {
      "cell_type": "code",
      "metadata": {
        "id": "QrhIT-fsC8r0"
      },
      "source": [
        "data23 = data2.apply(na_randomfill)"
      ],
      "execution_count": null,
      "outputs": []
    },
    {
      "cell_type": "code",
      "metadata": {
        "colab": {
          "base_uri": "https://localhost:8080/"
        },
        "id": "9eusIAw6r6Mi",
        "outputId": "572efbb1-5de3-49f3-f482-8a71b42b14e0"
      },
      "source": [
        "data23['PROBABLE CAUSE(S) OF RTC'].nunique()"
      ],
      "execution_count": null,
      "outputs": [
        {
          "output_type": "execute_result",
          "data": {
            "text/plain": [
              "103"
            ]
          },
          "metadata": {
            "tags": []
          },
          "execution_count": 155
        }
      ]
    },
    {
      "cell_type": "code",
      "metadata": {
        "colab": {
          "base_uri": "https://localhost:8080/",
          "height": 623
        },
        "id": "lK7UfIXdkLly",
        "outputId": "9a87104d-7113-47d5-84d1-351f6b65399e"
      },
      "source": [
        "data23[data23['LOCATION'] == 'KM7.5-BABA IBADAN VILLAGE']"
      ],
      "execution_count": null,
      "outputs": [
        {
          "output_type": "execute_result",
          "data": {
            "text/html": [
              "<div>\n",
              "<style scoped>\n",
              "    .dataframe tbody tr th:only-of-type {\n",
              "        vertical-align: middle;\n",
              "    }\n",
              "\n",
              "    .dataframe tbody tr th {\n",
              "        vertical-align: top;\n",
              "    }\n",
              "\n",
              "    .dataframe thead th {\n",
              "        text-align: right;\n",
              "    }\n",
              "</style>\n",
              "<table border=\"1\" class=\"dataframe\">\n",
              "  <thead>\n",
              "    <tr style=\"text-align: right;\">\n",
              "      <th></th>\n",
              "      <th>Date</th>\n",
              "      <th>hour</th>\n",
              "      <th>DAY</th>\n",
              "      <th>LOCATION</th>\n",
              "      <th>PROBABLE CAUSE(S) OF RTC</th>\n",
              "      <th>ROUTE</th>\n",
              "      <th>VEHICLE CATEGORY</th>\n",
              "      <th>VEHICLE CLASS</th>\n",
              "      <th>Timestamp</th>\n",
              "      <th>month</th>\n",
              "      <th>X</th>\n",
              "      <th>Y</th>\n",
              "    </tr>\n",
              "  </thead>\n",
              "  <tbody>\n",
              "    <tr>\n",
              "      <th>577</th>\n",
              "      <td>2012-01-26</td>\n",
              "      <td>1</td>\n",
              "      <td>TUE</td>\n",
              "      <td>KM7.5-BABA IBADAN VILLAGE</td>\n",
              "      <td>WOV</td>\n",
              "      <td>OYO-OGB</td>\n",
              "      <td>TRK/      CAR</td>\n",
              "      <td>COMM/      PVT</td>\n",
              "      <td>9/26/2018 3:00</td>\n",
              "      <td>8.0</td>\n",
              "      <td>3.91635</td>\n",
              "      <td>7.694</td>\n",
              "    </tr>\n",
              "    <tr>\n",
              "      <th>978</th>\n",
              "      <td>2012-02-11</td>\n",
              "      <td>18</td>\n",
              "      <td>TUE</td>\n",
              "      <td>KM7.5-BABA IBADAN VILLAGE</td>\n",
              "      <td>SPV</td>\n",
              "      <td>OYO-OGB</td>\n",
              "      <td>TRK/      CAR</td>\n",
              "      <td>COMM/      PVT</td>\n",
              "      <td>9/26/2018 3:00</td>\n",
              "      <td>8.0</td>\n",
              "      <td>3.91635</td>\n",
              "      <td>7.694</td>\n",
              "    </tr>\n",
              "    <tr>\n",
              "      <th>2139</th>\n",
              "      <td>2012-03-31</td>\n",
              "      <td>3</td>\n",
              "      <td>TUE</td>\n",
              "      <td>KM7.5-BABA IBADAN VILLAGE</td>\n",
              "      <td>WOV</td>\n",
              "      <td>OYO-OGB</td>\n",
              "      <td>TRK/      CAR</td>\n",
              "      <td>COMM/      PVT</td>\n",
              "      <td>9/26/2018 3:00</td>\n",
              "      <td>8.0</td>\n",
              "      <td>3.91635</td>\n",
              "      <td>7.694</td>\n",
              "    </tr>\n",
              "    <tr>\n",
              "      <th>2869</th>\n",
              "      <td>2012-04-30</td>\n",
              "      <td>13</td>\n",
              "      <td>TUE</td>\n",
              "      <td>KM7.5-BABA IBADAN VILLAGE</td>\n",
              "      <td>WOV</td>\n",
              "      <td>OYO-OGB</td>\n",
              "      <td>TRK/      CAR</td>\n",
              "      <td>COMM/      PVT</td>\n",
              "      <td>9/26/2018 3:00</td>\n",
              "      <td>8.0</td>\n",
              "      <td>3.91635</td>\n",
              "      <td>7.694</td>\n",
              "    </tr>\n",
              "    <tr>\n",
              "      <th>3472</th>\n",
              "      <td>2012-05-25</td>\n",
              "      <td>16</td>\n",
              "      <td>TUE</td>\n",
              "      <td>KM7.5-BABA IBADAN VILLAGE</td>\n",
              "      <td>TBT</td>\n",
              "      <td>OYO-OGB</td>\n",
              "      <td>TRK/      CAR</td>\n",
              "      <td>COMM/      PVT</td>\n",
              "      <td>9/26/2018 3:00</td>\n",
              "      <td>8.0</td>\n",
              "      <td>3.91635</td>\n",
              "      <td>7.694</td>\n",
              "    </tr>\n",
              "    <tr>\n",
              "      <th>...</th>\n",
              "      <td>...</td>\n",
              "      <td>...</td>\n",
              "      <td>...</td>\n",
              "      <td>...</td>\n",
              "      <td>...</td>\n",
              "      <td>...</td>\n",
              "      <td>...</td>\n",
              "      <td>...</td>\n",
              "      <td>...</td>\n",
              "      <td>...</td>\n",
              "      <td>...</td>\n",
              "      <td>...</td>\n",
              "    </tr>\n",
              "    <tr>\n",
              "      <th>59605</th>\n",
              "      <td>2018-10-20</td>\n",
              "      <td>13</td>\n",
              "      <td>TUE</td>\n",
              "      <td>KM7.5-BABA IBADAN VILLAGE</td>\n",
              "      <td>MDV</td>\n",
              "      <td>OYO-OGB</td>\n",
              "      <td>TRK/      CAR</td>\n",
              "      <td>COMM/      PVT</td>\n",
              "      <td>9/26/2018 3:00</td>\n",
              "      <td>8.0</td>\n",
              "      <td>3.91635</td>\n",
              "      <td>7.694</td>\n",
              "    </tr>\n",
              "    <tr>\n",
              "      <th>59981</th>\n",
              "      <td>2018-11-05</td>\n",
              "      <td>5</td>\n",
              "      <td>TUE</td>\n",
              "      <td>KM7.5-BABA IBADAN VILLAGE</td>\n",
              "      <td>RTV</td>\n",
              "      <td>OYO-OGB</td>\n",
              "      <td>TRK/      CAR</td>\n",
              "      <td>COMM/      PVT</td>\n",
              "      <td>9/26/2018 3:00</td>\n",
              "      <td>8.0</td>\n",
              "      <td>3.91635</td>\n",
              "      <td>7.694</td>\n",
              "    </tr>\n",
              "    <tr>\n",
              "      <th>60070</th>\n",
              "      <td>2018-11-08</td>\n",
              "      <td>22</td>\n",
              "      <td>TUE</td>\n",
              "      <td>KM7.5-BABA IBADAN VILLAGE</td>\n",
              "      <td>SPV</td>\n",
              "      <td>OYO-OGB</td>\n",
              "      <td>TRK/      CAR</td>\n",
              "      <td>COMM/      PVT</td>\n",
              "      <td>9/26/2018 3:00</td>\n",
              "      <td>8.0</td>\n",
              "      <td>3.91635</td>\n",
              "      <td>7.694</td>\n",
              "    </tr>\n",
              "    <tr>\n",
              "      <th>60290</th>\n",
              "      <td>2018-11-18</td>\n",
              "      <td>2</td>\n",
              "      <td>TUE</td>\n",
              "      <td>KM7.5-BABA IBADAN VILLAGE</td>\n",
              "      <td>SPV</td>\n",
              "      <td>OYO-OGB</td>\n",
              "      <td>TRK/      CAR</td>\n",
              "      <td>COMM/      PVT</td>\n",
              "      <td>9/26/2018 3:00</td>\n",
              "      <td>8.0</td>\n",
              "      <td>3.91635</td>\n",
              "      <td>7.694</td>\n",
              "    </tr>\n",
              "    <tr>\n",
              "      <th>61339</th>\n",
              "      <td>2018-12-31</td>\n",
              "      <td>19</td>\n",
              "      <td>TUE</td>\n",
              "      <td>KM7.5-BABA IBADAN VILLAGE</td>\n",
              "      <td>SPV,WOV</td>\n",
              "      <td>OYO-OGB</td>\n",
              "      <td>TRK/      CAR</td>\n",
              "      <td>COMM/      PVT</td>\n",
              "      <td>9/26/2018 3:00</td>\n",
              "      <td>8.0</td>\n",
              "      <td>3.91635</td>\n",
              "      <td>7.694</td>\n",
              "    </tr>\n",
              "  </tbody>\n",
              "</table>\n",
              "<p>95 rows × 12 columns</p>\n",
              "</div>"
            ],
            "text/plain": [
              "             Date  hour  DAY  ... month    X          Y\n",
              "577    2012-01-26     1  TUE  ...   8.0  3.91635  7.694\n",
              "978    2012-02-11    18  TUE  ...   8.0  3.91635  7.694\n",
              "2139   2012-03-31     3  TUE  ...   8.0  3.91635  7.694\n",
              "2869   2012-04-30    13  TUE  ...   8.0  3.91635  7.694\n",
              "3472   2012-05-25    16  TUE  ...   8.0  3.91635  7.694\n",
              "...           ...   ...  ...  ...   ...      ...    ...\n",
              "59605  2018-10-20    13  TUE  ...   8.0  3.91635  7.694\n",
              "59981  2018-11-05     5  TUE  ...   8.0  3.91635  7.694\n",
              "60070  2018-11-08    22  TUE  ...   8.0  3.91635  7.694\n",
              "60290  2018-11-18     2  TUE  ...   8.0  3.91635  7.694\n",
              "61339  2018-12-31    19  TUE  ...   8.0  3.91635  7.694\n",
              "\n",
              "[95 rows x 12 columns]"
            ]
          },
          "metadata": {
            "tags": []
          },
          "execution_count": 153
        }
      ]
    },
    {
      "cell_type": "code",
      "metadata": {
        "colab": {
          "base_uri": "https://localhost:8080/",
          "height": 374
        },
        "id": "czq4UaNroIQy",
        "outputId": "adaff3dc-d6de-4ed4-a010-9f0a39171452"
      },
      "source": [
        "data23.tail()"
      ],
      "execution_count": null,
      "outputs": [
        {
          "output_type": "execute_result",
          "data": {
            "text/html": [
              "<div>\n",
              "<style scoped>\n",
              "    .dataframe tbody tr th:only-of-type {\n",
              "        vertical-align: middle;\n",
              "    }\n",
              "\n",
              "    .dataframe tbody tr th {\n",
              "        vertical-align: top;\n",
              "    }\n",
              "\n",
              "    .dataframe thead th {\n",
              "        text-align: right;\n",
              "    }\n",
              "</style>\n",
              "<table border=\"1\" class=\"dataframe\">\n",
              "  <thead>\n",
              "    <tr style=\"text-align: right;\">\n",
              "      <th></th>\n",
              "      <th>Date</th>\n",
              "      <th>hour</th>\n",
              "      <th>DAY</th>\n",
              "      <th>LOCATION</th>\n",
              "      <th>PROBABLE CAUSE(S) OF RTC</th>\n",
              "      <th>ROUTE</th>\n",
              "      <th>VEHICLE CATEGORY</th>\n",
              "      <th>VEHICLE CLASS</th>\n",
              "      <th>Timestamp</th>\n",
              "      <th>month</th>\n",
              "      <th>X</th>\n",
              "      <th>Y</th>\n",
              "    </tr>\n",
              "  </thead>\n",
              "  <tbody>\n",
              "    <tr>\n",
              "      <th>61339</th>\n",
              "      <td>2018-12-31</td>\n",
              "      <td>19</td>\n",
              "      <td>TUE</td>\n",
              "      <td>KM7.5-BABA IBADAN VILLAGE</td>\n",
              "      <td>SPV,WOV</td>\n",
              "      <td>OYO-OGB</td>\n",
              "      <td>TRK/      CAR</td>\n",
              "      <td>COMM/      PVT</td>\n",
              "      <td>9/26/2018 3:00</td>\n",
              "      <td>8.0</td>\n",
              "      <td>3.91635</td>\n",
              "      <td>7.69400</td>\n",
              "    </tr>\n",
              "    <tr>\n",
              "      <th>61340</th>\n",
              "      <td>2018-12-31</td>\n",
              "      <td>20</td>\n",
              "      <td>MON</td>\n",
              "      <td>KM4.5- CARETAKER</td>\n",
              "      <td>WOV</td>\n",
              "      <td>OGB-OYO</td>\n",
              "      <td>TNK/      MC/    MC</td>\n",
              "      <td>COMM/       COMM/    PVT</td>\n",
              "      <td>12/02/2018 06:00</td>\n",
              "      <td>9.0</td>\n",
              "      <td>3.90930</td>\n",
              "      <td>7.55428</td>\n",
              "    </tr>\n",
              "    <tr>\n",
              "      <th>61341</th>\n",
              "      <td>2018-12-31</td>\n",
              "      <td>21</td>\n",
              "      <td>THU</td>\n",
              "      <td>KM6-ARINKINKIN AREA</td>\n",
              "      <td>DGD,LSV</td>\n",
              "      <td>OGB-OYO</td>\n",
              "      <td>MC/ PICK UP</td>\n",
              "      <td>PVT/ GOVT</td>\n",
              "      <td>12/27/2014 20:00</td>\n",
              "      <td>11.0</td>\n",
              "      <td>4.36135</td>\n",
              "      <td>8.30588</td>\n",
              "    </tr>\n",
              "    <tr>\n",
              "      <th>61342</th>\n",
              "      <td>2018-12-31</td>\n",
              "      <td>22</td>\n",
              "      <td>SAT</td>\n",
              "      <td>KM7-DEPEER LIFE AREA</td>\n",
              "      <td>SPV</td>\n",
              "      <td>OYO-IBD</td>\n",
              "      <td>SUV</td>\n",
              "      <td>PVT</td>\n",
              "      <td>06/04/2018 22:00</td>\n",
              "      <td>3.0</td>\n",
              "      <td>4.39034</td>\n",
              "      <td>8.31515</td>\n",
              "    </tr>\n",
              "    <tr>\n",
              "      <th>61343</th>\n",
              "      <td>2018-12-31</td>\n",
              "      <td>23</td>\n",
              "      <td>WED</td>\n",
              "      <td>KM1-OYO EAST LG</td>\n",
              "      <td>SPV</td>\n",
              "      <td>OYO-OGB</td>\n",
              "      <td>TRL/     BUS/    MC</td>\n",
              "      <td>COMM/   COMM/  PVT</td>\n",
              "      <td>10/20/2016 5:00</td>\n",
              "      <td>8.0</td>\n",
              "      <td>4.23288</td>\n",
              "      <td>8.12462</td>\n",
              "    </tr>\n",
              "  </tbody>\n",
              "</table>\n",
              "</div>"
            ],
            "text/plain": [
              "             Date  hour  DAY  ... month    X            Y\n",
              "61339  2018-12-31    19  TUE  ...   8.0  3.91635  7.69400\n",
              "61340  2018-12-31    20  MON  ...   9.0  3.90930  7.55428\n",
              "61341  2018-12-31    21  THU  ...  11.0  4.36135  8.30588\n",
              "61342  2018-12-31    22  SAT  ...   3.0  4.39034  8.31515\n",
              "61343  2018-12-31    23  WED  ...   8.0  4.23288  8.12462\n",
              "\n",
              "[5 rows x 12 columns]"
            ]
          },
          "metadata": {
            "tags": []
          },
          "execution_count": 152
        }
      ]
    },
    {
      "cell_type": "code",
      "metadata": {
        "colab": {
          "base_uri": "https://localhost:8080/",
          "height": 428
        },
        "id": "dOKNXmrbihyh",
        "outputId": "e64f275d-269c-46b7-eed5-2a46a24069ba"
      },
      "source": [
        "data23.tail()"
      ],
      "execution_count": null,
      "outputs": [
        {
          "output_type": "execute_result",
          "data": {
            "text/html": [
              "<div>\n",
              "<style scoped>\n",
              "    .dataframe tbody tr th:only-of-type {\n",
              "        vertical-align: middle;\n",
              "    }\n",
              "\n",
              "    .dataframe tbody tr th {\n",
              "        vertical-align: top;\n",
              "    }\n",
              "\n",
              "    .dataframe thead th {\n",
              "        text-align: right;\n",
              "    }\n",
              "</style>\n",
              "<table border=\"1\" class=\"dataframe\">\n",
              "  <thead>\n",
              "    <tr style=\"text-align: right;\">\n",
              "      <th></th>\n",
              "      <th>Date</th>\n",
              "      <th>hour</th>\n",
              "      <th>DAY</th>\n",
              "      <th>LOCATION</th>\n",
              "      <th>PROBABLE CAUSE(S) OF RTC</th>\n",
              "      <th>ROUTE</th>\n",
              "      <th>VEHICLE CATEGORY</th>\n",
              "      <th>VEHICLE CLASS</th>\n",
              "      <th>Timestamp</th>\n",
              "      <th>month</th>\n",
              "      <th>X</th>\n",
              "      <th>Y</th>\n",
              "      <th>3.0</th>\n",
              "      <th>4.0</th>\n",
              "      <th>5.0</th>\n",
              "      <th>11.0</th>\n",
              "      <th>2.0</th>\n",
              "      <th>8.0</th>\n",
              "      <th>9.0</th>\n",
              "      <th>12.0</th>\n",
              "      <th>1.0</th>\n",
              "      <th>7.0</th>\n",
              "      <th>10.0</th>\n",
              "      <th>6.0</th>\n",
              "    </tr>\n",
              "  </thead>\n",
              "  <tbody>\n",
              "    <tr>\n",
              "      <th>61339</th>\n",
              "      <td>2018-12-31</td>\n",
              "      <td>19</td>\n",
              "      <td>TUE</td>\n",
              "      <td>KM7.5-BABA IBADAN VILLAGE</td>\n",
              "      <td>SPV,WOV</td>\n",
              "      <td>OYO-OGB</td>\n",
              "      <td>TRK/      CAR</td>\n",
              "      <td>COMM/      PVT</td>\n",
              "      <td>9/26/2018 3:00</td>\n",
              "      <td>8.0</td>\n",
              "      <td>3.91635</td>\n",
              "      <td>7.69400</td>\n",
              "      <td>8.0</td>\n",
              "      <td>8.0</td>\n",
              "      <td>8.0</td>\n",
              "      <td>8.0</td>\n",
              "      <td>8.0</td>\n",
              "      <td>8.0</td>\n",
              "      <td>8.0</td>\n",
              "      <td>8.0</td>\n",
              "      <td>8.0</td>\n",
              "      <td>8.0</td>\n",
              "      <td>8.0</td>\n",
              "      <td>8.0</td>\n",
              "    </tr>\n",
              "    <tr>\n",
              "      <th>61340</th>\n",
              "      <td>2018-12-31</td>\n",
              "      <td>20</td>\n",
              "      <td>MON</td>\n",
              "      <td>KM4.5- CARETAKER</td>\n",
              "      <td>WOV</td>\n",
              "      <td>OGB-OYO</td>\n",
              "      <td>TNK/      MC/    MC</td>\n",
              "      <td>COMM/       COMM/    PVT</td>\n",
              "      <td>12/02/2018 06:00</td>\n",
              "      <td>9.0</td>\n",
              "      <td>3.90930</td>\n",
              "      <td>7.55428</td>\n",
              "      <td>8.0</td>\n",
              "      <td>8.0</td>\n",
              "      <td>8.0</td>\n",
              "      <td>8.0</td>\n",
              "      <td>8.0</td>\n",
              "      <td>8.0</td>\n",
              "      <td>8.0</td>\n",
              "      <td>8.0</td>\n",
              "      <td>8.0</td>\n",
              "      <td>8.0</td>\n",
              "      <td>8.0</td>\n",
              "      <td>8.0</td>\n",
              "    </tr>\n",
              "    <tr>\n",
              "      <th>61341</th>\n",
              "      <td>2018-12-31</td>\n",
              "      <td>21</td>\n",
              "      <td>THU</td>\n",
              "      <td>KM6-ARINKINKIN AREA</td>\n",
              "      <td>DGD,LSV</td>\n",
              "      <td>OGB-OYO</td>\n",
              "      <td>MC/ PICK UP</td>\n",
              "      <td>PVT/ GOVT</td>\n",
              "      <td>12/27/2014 20:00</td>\n",
              "      <td>11.0</td>\n",
              "      <td>4.36135</td>\n",
              "      <td>8.30588</td>\n",
              "      <td>8.0</td>\n",
              "      <td>8.0</td>\n",
              "      <td>8.0</td>\n",
              "      <td>8.0</td>\n",
              "      <td>8.0</td>\n",
              "      <td>8.0</td>\n",
              "      <td>8.0</td>\n",
              "      <td>8.0</td>\n",
              "      <td>8.0</td>\n",
              "      <td>8.0</td>\n",
              "      <td>8.0</td>\n",
              "      <td>8.0</td>\n",
              "    </tr>\n",
              "    <tr>\n",
              "      <th>61342</th>\n",
              "      <td>2018-12-31</td>\n",
              "      <td>22</td>\n",
              "      <td>SAT</td>\n",
              "      <td>KM7-DEPEER LIFE AREA</td>\n",
              "      <td>SPV</td>\n",
              "      <td>OYO-IBD</td>\n",
              "      <td>SUV</td>\n",
              "      <td>PVT</td>\n",
              "      <td>06/04/2018 22:00</td>\n",
              "      <td>3.0</td>\n",
              "      <td>4.39034</td>\n",
              "      <td>8.31515</td>\n",
              "      <td>8.0</td>\n",
              "      <td>8.0</td>\n",
              "      <td>8.0</td>\n",
              "      <td>8.0</td>\n",
              "      <td>8.0</td>\n",
              "      <td>8.0</td>\n",
              "      <td>8.0</td>\n",
              "      <td>8.0</td>\n",
              "      <td>8.0</td>\n",
              "      <td>8.0</td>\n",
              "      <td>8.0</td>\n",
              "      <td>8.0</td>\n",
              "    </tr>\n",
              "    <tr>\n",
              "      <th>61343</th>\n",
              "      <td>2018-12-31</td>\n",
              "      <td>23</td>\n",
              "      <td>WED</td>\n",
              "      <td>KM1-OYO EAST LG</td>\n",
              "      <td>SPV</td>\n",
              "      <td>OYO-OGB</td>\n",
              "      <td>TRL/     BUS/    MC</td>\n",
              "      <td>COMM/   COMM/  PVT</td>\n",
              "      <td>10/20/2016 5:00</td>\n",
              "      <td>8.0</td>\n",
              "      <td>4.23288</td>\n",
              "      <td>8.12462</td>\n",
              "      <td>8.0</td>\n",
              "      <td>8.0</td>\n",
              "      <td>8.0</td>\n",
              "      <td>8.0</td>\n",
              "      <td>8.0</td>\n",
              "      <td>8.0</td>\n",
              "      <td>8.0</td>\n",
              "      <td>8.0</td>\n",
              "      <td>8.0</td>\n",
              "      <td>8.0</td>\n",
              "      <td>8.0</td>\n",
              "      <td>8.0</td>\n",
              "    </tr>\n",
              "  </tbody>\n",
              "</table>\n",
              "</div>"
            ],
            "text/plain": [
              "             Date  hour  DAY                   LOCATION  ...  1.0  7.0 10.0  6.0\n",
              "61339  2018-12-31    19  TUE  KM7.5-BABA IBADAN VILLAGE  ...  8.0  8.0  8.0  8.0\n",
              "61340  2018-12-31    20  MON           KM4.5- CARETAKER  ...  8.0  8.0  8.0  8.0\n",
              "61341  2018-12-31    21  THU        KM6-ARINKINKIN AREA  ...  8.0  8.0  8.0  8.0\n",
              "61342  2018-12-31    22  SAT       KM7-DEPEER LIFE AREA  ...  8.0  8.0  8.0  8.0\n",
              "61343  2018-12-31    23  WED            KM1-OYO EAST LG  ...  8.0  8.0  8.0  8.0\n",
              "\n",
              "[5 rows x 24 columns]"
            ]
          },
          "metadata": {
            "tags": []
          },
          "execution_count": 124
        }
      ]
    },
    {
      "cell_type": "code",
      "metadata": {
        "id": "D10hsVmIiwwq"
      },
      "source": [
        ""
      ],
      "execution_count": null,
      "outputs": []
    },
    {
      "cell_type": "code",
      "metadata": {
        "id": "jWG75CMqDBhs"
      },
      "source": [
        "import numpy as np\r\n",
        "def fill_with_random(data2, DAY):\r\n",
        "    '''Fill `df2`'s column with name `column` with random data based on non-NaN data from `column`'''\r\n",
        "    data2 = data2.copy()\r\n",
        "    data2['DAY'] = data2['DAY'].apply(lambda x: np.random.choice(data2['DAY'].dropna().values) if np.isnan(x) else x)\r\n",
        "    return data2"
      ],
      "execution_count": null,
      "outputs": []
    },
    {
      "cell_type": "code",
      "metadata": {
        "id": "CPk1Vdnb8Fty"
      },
      "source": [
        ""
      ],
      "execution_count": null,
      "outputs": []
    },
    {
      "cell_type": "code",
      "metadata": {
        "colab": {
          "base_uri": "https://localhost:8080/"
        },
        "id": "g2PBgYPW6F8A",
        "outputId": "a6e1b936-5fc3-4584-c4c5-63b57cdaad38"
      },
      "source": [
        "len(Data)"
      ],
      "execution_count": null,
      "outputs": [
        {
          "output_type": "execute_result",
          "data": {
            "text/plain": [
              "61344"
            ]
          },
          "metadata": {
            "tags": []
          },
          "execution_count": 42
        }
      ]
    },
    {
      "cell_type": "code",
      "metadata": {
        "id": "TS_kUEEm4qoK"
      },
      "source": [
        ""
      ],
      "execution_count": null,
      "outputs": []
    },
    {
      "cell_type": "code",
      "metadata": {
        "id": "oY9OlsU24TA_"
      },
      "source": [
        ""
      ],
      "execution_count": null,
      "outputs": []
    }
  ]
}